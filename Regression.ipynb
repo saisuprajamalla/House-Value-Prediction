{
 "cells": [
  {
   "cell_type": "code",
   "execution_count": 414,
   "metadata": {},
   "outputs": [],
   "source": [
    "import pandas as pd\n",
    "import numpy as np\n",
    "import datetime\n",
    "from sklearn.metrics import mean_squared_error\n",
    "from math import sqrt"
   ]
  },
  {
   "cell_type": "code",
   "execution_count": 467,
   "metadata": {},
   "outputs": [],
   "source": [
    "data=pd.read_csv(\"C:\\Users\\SAI SUPRAJA M\\Documents\\GitHub\\HomeValuePrediction\\data\\preprocessed_data.csv\", low_memory=False)"
   ]
  },
  {
   "cell_type": "code",
   "execution_count": 468,
   "metadata": {},
   "outputs": [
    {
     "data": {
      "text/html": [
       "<div>\n",
       "<style scoped>\n",
       "    .dataframe tbody tr th:only-of-type {\n",
       "        vertical-align: middle;\n",
       "    }\n",
       "\n",
       "    .dataframe tbody tr th {\n",
       "        vertical-align: top;\n",
       "    }\n",
       "\n",
       "    .dataframe thead th {\n",
       "        text-align: right;\n",
       "    }\n",
       "</style>\n",
       "<table border=\"1\" class=\"dataframe\">\n",
       "  <thead>\n",
       "    <tr style=\"text-align: right;\">\n",
       "      <th></th>\n",
       "      <th>lotsizesquarefeet</th>\n",
       "      <th>calculatedfinishedsquarefeet</th>\n",
       "      <th>bedroomcnt</th>\n",
       "      <th>bathroomcnt</th>\n",
       "      <th>regionidzip</th>\n",
       "      <th>garagecarcnt</th>\n",
       "      <th>poolcnt</th>\n",
       "      <th>AgeofHouse</th>\n",
       "      <th>buildingclasstypeid</th>\n",
       "    </tr>\n",
       "  </thead>\n",
       "  <tbody>\n",
       "    <tr>\n",
       "      <th>0</th>\n",
       "      <td>-0.001201</td>\n",
       "      <td>-0.001201</td>\n",
       "      <td>4.0</td>\n",
       "      <td>4.0</td>\n",
       "      <td>0</td>\n",
       "      <td>0.0</td>\n",
       "      <td>0.0</td>\n",
       "      <td>67.0</td>\n",
       "      <td>0.0</td>\n",
       "    </tr>\n",
       "    <tr>\n",
       "      <th>1</th>\n",
       "      <td>-0.000301</td>\n",
       "      <td>-0.000301</td>\n",
       "      <td>3.0</td>\n",
       "      <td>2.5</td>\n",
       "      <td>1</td>\n",
       "      <td>2.0</td>\n",
       "      <td>0.0</td>\n",
       "      <td>3.0</td>\n",
       "      <td>0.0</td>\n",
       "    </tr>\n",
       "    <tr>\n",
       "      <th>2</th>\n",
       "      <td>-0.000412</td>\n",
       "      <td>-0.000412</td>\n",
       "      <td>4.0</td>\n",
       "      <td>3.0</td>\n",
       "      <td>2</td>\n",
       "      <td>2.0</td>\n",
       "      <td>0.0</td>\n",
       "      <td>3.0</td>\n",
       "      <td>0.0</td>\n",
       "    </tr>\n",
       "    <tr>\n",
       "      <th>3</th>\n",
       "      <td>-0.005995</td>\n",
       "      <td>-0.005995</td>\n",
       "      <td>5.0</td>\n",
       "      <td>3.5</td>\n",
       "      <td>3</td>\n",
       "      <td>1.0</td>\n",
       "      <td>0.0</td>\n",
       "      <td>57.0</td>\n",
       "      <td>0.0</td>\n",
       "    </tr>\n",
       "    <tr>\n",
       "      <th>4</th>\n",
       "      <td>-0.020725</td>\n",
       "      <td>-0.020725</td>\n",
       "      <td>2.0</td>\n",
       "      <td>2.0</td>\n",
       "      <td>3</td>\n",
       "      <td>2.0</td>\n",
       "      <td>0.0</td>\n",
       "      <td>37.0</td>\n",
       "      <td>0.0</td>\n",
       "    </tr>\n",
       "  </tbody>\n",
       "</table>\n",
       "</div>"
      ],
      "text/plain": [
       "   lotsizesquarefeet  calculatedfinishedsquarefeet  bedroomcnt  bathroomcnt  \\\n",
       "0          -0.001201                     -0.001201         4.0          4.0   \n",
       "1          -0.000301                     -0.000301         3.0          2.5   \n",
       "2          -0.000412                     -0.000412         4.0          3.0   \n",
       "3          -0.005995                     -0.005995         5.0          3.5   \n",
       "4          -0.020725                     -0.020725         2.0          2.0   \n",
       "\n",
       "   regionidzip  garagecarcnt  poolcnt  AgeofHouse  buildingclasstypeid  \n",
       "0            0           0.0      0.0        67.0                  0.0  \n",
       "1            1           2.0      0.0         3.0                  0.0  \n",
       "2            2           2.0      0.0         3.0                  0.0  \n",
       "3            3           1.0      0.0        57.0                  0.0  \n",
       "4            3           2.0      0.0        37.0                  0.0  "
      ]
     },
     "execution_count": 468,
     "metadata": {},
     "output_type": "execute_result"
    }
   ],
   "source": [
    "data.head()"
   ]
  },
  {
   "cell_type": "code",
   "execution_count": 469,
   "metadata": {},
   "outputs": [],
   "source": [
    "sample = [-0.001201,-0.001201,4.0,4.0,0,0.0,0.0,67.0,0.0]"
   ]
  },
  {
   "cell_type": "code",
   "execution_count": 470,
   "metadata": {},
   "outputs": [
    {
     "data": {
      "text/plain": [
       "array([[-1.20113718e-03, -1.20113718e-03,  4.00000000e+00, ...,\n",
       "         0.00000000e+00,  6.70000000e+01,  0.00000000e+00],\n",
       "       [-3.01403603e-04, -3.01403603e-04,  3.00000000e+00, ...,\n",
       "         0.00000000e+00,  3.00000000e+00,  0.00000000e+00],\n",
       "       [-4.11524515e-04, -4.11524515e-04,  4.00000000e+00, ...,\n",
       "         0.00000000e+00,  3.00000000e+00,  0.00000000e+00],\n",
       "       ...,\n",
       "       [-3.09119688e-04, -3.09119688e-04,  3.00000000e+00, ...,\n",
       "         0.00000000e+00,  5.00000000e+00,  0.00000000e+00],\n",
       "       [-3.34554189e-04, -3.34554189e-04,  4.00000000e+00, ...,\n",
       "         0.00000000e+00,  4.00000000e+00,  0.00000000e+00],\n",
       "       [-5.00973941e-04, -5.00973941e-04,  4.00000000e+00, ...,\n",
       "         0.00000000e+00,  3.00000000e+00,  0.00000000e+00]])"
      ]
     },
     "execution_count": 470,
     "metadata": {},
     "output_type": "execute_result"
    }
   ],
   "source": [
    "data_array = data.values\n",
    "data_array"
   ]
  },
  {
   "cell_type": "code",
   "execution_count": 471,
   "metadata": {},
   "outputs": [
    {
     "data": {
      "text/plain": [
       "array([[-0.23480231],\n",
       "       [-0.05079983],\n",
       "       [-0.23501983],\n",
       "       ...,\n",
       "       [-0.78961251],\n",
       "       [-0.10219221],\n",
       "       [-0.32855121]])"
      ]
     },
     "execution_count": 471,
     "metadata": {},
     "output_type": "execute_result"
    }
   ],
   "source": [
    "data_class1 = pd.read_csv('data/class.csv')\n",
    "data_class = data_class1.values\n",
    "data_class"
   ]
  },
  {
   "cell_type": "code",
   "execution_count": 472,
   "metadata": {
    "scrolled": true
   },
   "outputs": [],
   "source": [
    "from sklearn.model_selection import train_test_split\n",
    "start = datetime.datetime.now()\n",
    "X_train, X_test, y_train, y_test = train_test_split(data_array, data_class, test_size=0.2, random_state=1)"
   ]
  },
  {
   "cell_type": "code",
   "execution_count": 427,
   "metadata": {},
   "outputs": [
    {
     "name": "stdout",
     "output_type": "stream",
     "text": [
      "Time taken:  0:00:01.689000\n",
      "RMSE:  0.290914831709\n"
     ]
    }
   ],
   "source": [
    "from sklearn import linear_model\n",
    "start = datetime.datetime.now()\n",
    "reg1 = linear_model.LinearRegression()\n",
    "reg1.fit(X_train, y_train)\n",
    "end = datetime.datetime.now()\n",
    "print  \"Time taken: \", end - start\n",
    "predict = reg1.predict(X_test)\n",
    "print \"RMSE: \", sqrt(mean_squared_error(y_test, predict))"
   ]
  },
  {
   "cell_type": "code",
   "execution_count": 428,
   "metadata": {},
   "outputs": [
    {
     "name": "stdout",
     "output_type": "stream",
     "text": [
      "Time taken:  0:00:00.905000\n",
      "RMSE:  0.290890206628\n"
     ]
    }
   ],
   "source": [
    "from sklearn import linear_model\n",
    "start = datetime.datetime.now()\n",
    "reg2 = linear_model.Ridge(alpha = 1000.0)\n",
    "reg2.fit (X_train, y_train) \n",
    "end = datetime.datetime.now()\n",
    "print  \"Time taken: \", end - start\n",
    "predict1 = reg2.predict(X_test)\n",
    "print \"RMSE: \", sqrt(mean_squared_error(y_test, predict1))"
   ]
  },
  {
   "cell_type": "code",
   "execution_count": 429,
   "metadata": {},
   "outputs": [
    {
     "name": "stdout",
     "output_type": "stream",
     "text": [
      "Time taken:  0:00:00.646000\n",
      "RMSE:  0.290792519129\n"
     ]
    }
   ],
   "source": [
    "from sklearn import linear_model\n",
    "start = datetime.datetime.now()\n",
    "reg3 = linear_model.LassoLars(alpha=0.01)\n",
    "reg3.fit (X_train, y_train) \n",
    "end = datetime.datetime.now()\n",
    "print  \"Time taken: \", end - start\n",
    "predict1 = reg3.predict(X_test)\n",
    "print \"RMSE: \", sqrt(mean_squared_error(y_test, predict1))"
   ]
  },
  {
   "cell_type": "code",
   "execution_count": 430,
   "metadata": {},
   "outputs": [
    {
     "name": "stdout",
     "output_type": "stream",
     "text": [
      "Time taken:  0:00:02.511000\n",
      "RMSE:  0.290544347787\n"
     ]
    }
   ],
   "source": [
    "from xgboost.sklearn import XGBRegressor\n",
    "start = datetime.datetime.now()\n",
    "xgb = XGBRegressor()\n",
    "xgb.fit(X_train,y_train)\n",
    "end = datetime.datetime.now()\n",
    "print  \"Time taken: \", end - start\n",
    "y_predict_xgb = xgb.predict(X_test)\n",
    "print \"RMSE: \", sqrt(mean_squared_error(y_test, y_predict_xgb))"
   ]
  },
  {
   "cell_type": "code",
   "execution_count": 442,
   "metadata": {},
   "outputs": [
    {
     "name": "stdout",
     "output_type": "stream",
     "text": [
      "Time taken for linear regression:  0:00:00.005000\n",
      "RMSE for linear regression:  0.29180464532\n",
      "Time taken for linear regression:  0:00:00.006000\n",
      "RMSE for linear regression:  0.291798942943\n",
      "Time taken for linear regression:  0:00:00.007000\n",
      "RMSE for linear regression:  0.291185851815\n",
      "Time taken for linear regression:  0:00:00.006000\n",
      "RMSE for linear regression:  0.289881612424\n",
      "Time taken for linear regression:  0:00:00.006000\n",
      "RMSE for linear regression:  0.292058078916\n",
      "Time taken for linear regression:  0:00:00.007000\n",
      "RMSE for linear regression:  0.293383489708\n",
      "Time taken for linear regression:  0:00:00.012000\n",
      "RMSE for linear regression:  0.290735900984\n",
      "Time taken for linear regression:  0:00:00.010000\n",
      "RMSE for linear regression:  0.290419290322\n",
      "Time taken for linear regression:  0:00:00.011000\n",
      "RMSE for linear regression:  0.293499065671\n",
      "Time taken for linear regression:  0:00:00.011000\n",
      "RMSE for linear regression:  0.296731638578\n",
      "Avg RMSE:  0.292149851668\n"
     ]
    }
   ],
   "source": [
    "from sklearn.model_selection import KFold\n",
    "kf = KFold(n_splits=10)\n",
    "lin = []\n",
    "for train, test in kf.split(data_array, data_class):\n",
    "    X_train = data_array[train]\n",
    "    X_test = data_array[test]\n",
    "    y_train = data_class[train]\n",
    "    y_test = data_class[test]\n",
    "    start = datetime.datetime.now()\n",
    "    reg1 = linear_model.LinearRegression()\n",
    "    reg1.fit(X_train, y_train)\n",
    "    end = datetime.datetime.now()\n",
    "    print  \"Time taken for linear regression: \", end - start\n",
    "    y_predict_xgb = reg1.predict(X_test)\n",
    "    linReg =  sqrt(mean_squared_error(y_test, y_predict_xgb))\n",
    "    lin.append(linReg)\n",
    "    print \"RMSE for linear regression: \", linReg\n",
    "total = 0.00\n",
    "for i in lin:\n",
    "    total = total + float(i)\n",
    "print \"Avg RMSE: \" ,total/len(lin)"
   ]
  },
  {
   "cell_type": "code",
   "execution_count": 444,
   "metadata": {},
   "outputs": [
    {
     "name": "stdout",
     "output_type": "stream",
     "text": [
      "Time taken for Ridge Regression:  0:00:00.005000\n",
      "RMSE for Ridge Regression:  0.291780027367\n",
      "Time taken for Ridge Regression:  0:00:00.002000\n",
      "RMSE for Ridge Regression:  0.291773950517\n",
      "Time taken for Ridge Regression:  0:00:00.005000\n",
      "RMSE for Ridge Regression:  0.291141415223\n",
      "Time taken for Ridge Regression:  0:00:00.007000\n",
      "RMSE for Ridge Regression:  0.289867277651\n",
      "Time taken for Ridge Regression:  0:00:00.008000\n",
      "RMSE for Ridge Regression:  0.292055519116\n",
      "Time taken for Ridge Regression:  0:00:00.006000\n",
      "RMSE for Ridge Regression:  0.293325102229\n",
      "Time taken for Ridge Regression:  0:00:00.009000\n",
      "RMSE for Ridge Regression:  0.290688917922\n",
      "Time taken for Ridge Regression:  0:00:00.006000\n",
      "RMSE for Ridge Regression:  0.290362367551\n",
      "Time taken for Ridge Regression:  0:00:00.006000\n",
      "RMSE for Ridge Regression:  0.293474677653\n",
      "Time taken for Ridge Regression:  0:00:00.008000\n",
      "RMSE for Ridge Regression:  0.2967298505\n",
      "Avg RMSE:  0.292119910573\n"
     ]
    }
   ],
   "source": [
    "from sklearn.model_selection import KFold\n",
    "kf = KFold(n_splits=10)\n",
    "rid = []\n",
    "for train, test in kf.split(data_array, data_class):\n",
    "    X_train = data_array[train]\n",
    "    X_test = data_array[test]\n",
    "    y_train = data_class[train]\n",
    "    y_test = data_class[test]\n",
    "    start = datetime.datetime.now()\n",
    "    reg2 = linear_model.Ridge(alpha = 1000.0)\n",
    "    reg2.fit (X_train, y_train) \n",
    "    end = datetime.datetime.now()\n",
    "    print  \"Time taken for Ridge Regression: \", end - start\n",
    "    y_predict_xgb = reg2.predict(X_test)\n",
    "    ridReg =  sqrt(mean_squared_error(y_test, y_predict_xgb))\n",
    "    rid.append(ridReg)\n",
    "    print \"RMSE for Ridge Regression: \", ridReg\n",
    "total = 0.00\n",
    "for i in rid:\n",
    "    total = total + float(i)\n",
    "print \"Avg RMSE: \" ,total/len(rid)"
   ]
  },
  {
   "cell_type": "code",
   "execution_count": 445,
   "metadata": {},
   "outputs": [
    {
     "name": "stdout",
     "output_type": "stream",
     "text": [
      "Time taken for lasso lars:  0:00:00.468000\n",
      "RMSE for Lasso Lars:  0.291913762526\n",
      "Time taken for lasso lars:  0:00:00.005000\n",
      "RMSE for Lasso Lars:  0.291632399535\n",
      "Time taken for lasso lars:  0:00:00.007000\n",
      "RMSE for Lasso Lars:  0.291169140066\n",
      "Time taken for lasso lars:  0:00:00.008000\n",
      "RMSE for Lasso Lars:  0.289793377892\n",
      "Time taken for lasso lars:  0:00:00.011000\n",
      "RMSE for Lasso Lars:  0.291907131525\n",
      "Time taken for lasso lars:  0:00:00.011000\n",
      "RMSE for Lasso Lars:  0.293430842693\n",
      "Time taken for lasso lars:  0:00:00.007000\n",
      "RMSE for Lasso Lars:  0.290308845782\n",
      "Time taken for lasso lars:  0:00:00.002000\n",
      "RMSE for Lasso Lars:  0.290428129126\n",
      "Time taken for lasso lars:  0:00:00.012000\n",
      "RMSE for Lasso Lars:  0.293555617841\n",
      "Time taken for lasso lars:  0:00:00.014000\n",
      "RMSE for Lasso Lars:  0.296800950864\n",
      "Avg RMSE:  0.292094019785\n"
     ]
    }
   ],
   "source": [
    "from sklearn.model_selection import KFold\n",
    "kf = KFold(n_splits=10)\n",
    "lass = []\n",
    "for train, test in kf.split(data_array, data_class):\n",
    "    X_train = data_array[train]\n",
    "    X_test = data_array[test]\n",
    "    y_train = data_class[train]\n",
    "    y_test = data_class[test]\n",
    "    start = datetime.datetime.now()\n",
    "    reg3 = linear_model.LassoLars(alpha=0.01)\n",
    "    reg3.fit (X_train, y_train) \n",
    "    end = datetime.datetime.now()\n",
    "    print  \"Time taken for lasso lars: \", end - start\n",
    "    y_predict_xgb = reg3.predict(X_test)\n",
    "    lassoLars =  sqrt(mean_squared_error(y_test, y_predict_xgb))\n",
    "    lass.append(lassoLars)\n",
    "    print \"RMSE for Lasso Lars: \", lassoLars\n",
    "total = 0.00\n",
    "for i in lass:\n",
    "    total = total + float(i)\n",
    "print \"Avg RMSE: \" ,total/len(lass)"
   ]
  },
  {
   "cell_type": "code",
   "execution_count": 448,
   "metadata": {},
   "outputs": [
    {
     "name": "stdout",
     "output_type": "stream",
     "text": [
      "Time taken for XgBoost:  0:00:00.713000\n",
      "RMSE for XgBoost :  0.291281886902\n",
      "Time taken for XgBoost:  0:00:00.733000\n",
      "RMSE for XgBoost :  0.291993744638\n",
      "Time taken for XgBoost:  0:00:00.773000\n",
      "RMSE for XgBoost :  0.290488978681\n",
      "Time taken for XgBoost:  0:00:00.707000\n",
      "RMSE for XgBoost :  0.289703514973\n",
      "Time taken for XgBoost:  0:00:00.711000\n",
      "RMSE for XgBoost :  0.291461921241\n",
      "Time taken for XgBoost:  0:00:00.724000\n",
      "RMSE for XgBoost :  0.292599572043\n",
      "Time taken for XgBoost:  0:00:00.717000\n",
      "RMSE for XgBoost :  0.290520466046\n",
      "Time taken for XgBoost:  0:00:00.708000\n",
      "RMSE for XgBoost :  0.29038728987\n",
      "Time taken for XgBoost:  0:00:00.729000\n",
      "RMSE for XgBoost :  0.293617406116\n",
      "Time taken for XgBoost:  0:00:00.724000\n",
      "RMSE for XgBoost :  0.296852194201\n",
      "Avg RMSE:  0.291890697471\n"
     ]
    }
   ],
   "source": [
    "# prices = np.asarray(prices)\n",
    "from sklearn.model_selection import KFold\n",
    "kf = KFold(n_splits=10)\n",
    "xg = []\n",
    "for train, test in kf.split(data_array, data_class):\n",
    "    X_train = data_array[train]\n",
    "    X_test = data_array[test]\n",
    "    y_train = data_class[train]\n",
    "    y_test = data_class[test]\n",
    "    start = datetime.datetime.now()\n",
    "    xgb = XGBRegressor()\n",
    "    xgb.fit(X_train,y_train)\n",
    "    end = datetime.datetime.now()\n",
    "    print  \"Time taken for XgBoost: \", end - start\n",
    "    y_predict_xgb = xgb.predict(X_test)\n",
    "    xgB =  sqrt(mean_squared_error(y_test, y_predict_xgb))\n",
    "    xg.append(xgB)\n",
    "    print \"RMSE for XgBoost : \", xgB\n",
    "total = 0.00\n",
    "for i in xg:\n",
    "    total = total + float(i)\n",
    "print \"Avg RMSE: \" ,total/len(xg)"
   ]
  },
  {
   "cell_type": "code",
   "execution_count": 456,
   "metadata": {},
   "outputs": [],
   "source": [
    "import matplotlib.pyplot as plt\n",
    "def plot_function(score):\n",
    "    plt.plot(range(len(score)),score)\n",
    "    plt.xlabel('Iterations')\n",
    "    plt.ylabel('RMSE')\n",
    "    plt.show()"
   ]
  },
  {
   "cell_type": "code",
   "execution_count": 462,
   "metadata": {},
   "outputs": [
    {
     "name": "stdout",
     "output_type": "stream",
     "text": [
      "Linear Regression\n"
     ]
    },
    {
     "data": {
      "image/png": "[encoded data removed]",
      "text/plain": [
       "<matplotlib.figure.Figure at 0x18e01390>"
      ]
     },
     "metadata": {},
     "output_type": "display_data"
    }
   ],
   "source": [
    "print \"Linear Regression\"\n",
    "plot_function(lin)"
   ]
  },
  {
   "cell_type": "code",
   "execution_count": 463,
   "metadata": {},
   "outputs": [
    {
     "name": "stdout",
     "output_type": "stream",
     "text": [
      "Ridge Regression\n"
     ]
    },
    {
     "data": {
      "image/png": "[encoded data removed]",
      "text/plain": [
       "<matplotlib.figure.Figure at 0x18d06908>"
      ]
     },
     "metadata": {},
     "output_type": "display_data"
    }
   ],
   "source": [
    "print \"Ridge Regression\"\n",
    "plot_function(rid)"
   ]
  },
  {
   "cell_type": "code",
   "execution_count": 464,
   "metadata": {},
   "outputs": [
    {
     "name": "stdout",
     "output_type": "stream",
     "text": [
      "Lasso Regression\n"
     ]
    },
    {
     "data": {
      "image/png": "[encoded data removed]",
      "text/plain": [
       "<matplotlib.figure.Figure at 0x197870f0>"
      ]
     },
     "metadata": {},
     "output_type": "display_data"
    }
   ],
   "source": [
    "print \"Lasso Regression\"\n",
    "plot_function(lass)"
   ]
  },
  {
   "cell_type": "code",
   "execution_count": 465,
   "metadata": {},
   "outputs": [
    {
     "name": "stdout",
     "output_type": "stream",
     "text": [
      "XgBoost Regression\n"
     ]
    },
    {
     "data": {
      "image/png": "[encoded data removed]",
      "text/plain": [
       "<matplotlib.figure.Figure at 0x198a1630>"
      ]
     },
     "metadata": {},
     "output_type": "display_data"
    }
   ],
   "source": [
    "print \"XgBoost Regression\"\n",
    "plot_function(xg)"
   ]
  },
  {
   "cell_type": "code",
   "execution_count": 466,
   "metadata": {},
   "outputs": [],
   "source": [
    "import pickle\n",
    "filename = 'xgboost.sav'\n",
    "pickle.dump(xgb, open(filename, 'wb'))"
   ]
  },
  {
   "cell_type": "code",
   "execution_count": 345,
   "metadata": {},
   "outputs": [],
   "source": [
    "loaded_model = pickle.load(open(filename, 'rb'))\n",
    "result = loaded_model.predict(sample)"
   ]
  },
  {
   "cell_type": "code",
   "execution_count": 346,
   "metadata": {},
   "outputs": [
    {
     "data": {
      "text/plain": [
       "array([-0.5340421], dtype=float32)"
      ]
     },
     "execution_count": 346,
     "metadata": {},
     "output_type": "execute_result"
    }
   ],
   "source": [
    "result"
   ]
  },
  {
   "cell_type": "code",
   "execution_count": 374,
   "metadata": {},
   "outputs": [
    {
     "data": {
      "text/plain": [
       "array([1113597.5], dtype=float32)"
      ]
     },
     "execution_count": 374,
     "metadata": {},
     "output_type": "execute_result"
    }
   ],
   "source": [
    "value = (-result*(1299963.0-900001.0))+900001.0\n",
    "value"
   ]
  },
  {
   "cell_type": "code",
   "execution_count": 263,
   "metadata": {},
   "outputs": [],
   "source": [
    "def reverse_transformation(value, min_value, max_value):\n",
    "    return (value*(max_value-min_value)+min_value) "
   ]
  }
 ],
 "metadata": {
  "kernelspec": {
   "display_name": "Python 2",
   "language": "python",
   "name": "python2"
  },
  "language_info": {
   "codemirror_mode": {
    "name": "ipython",
    "version": 2
   },
   "file_extension": ".py",
   "mimetype": "text/x-python",
   "name": "python",
   "nbconvert_exporter": "python",
   "pygments_lexer": "ipython2",
   "version": "2.7.14"
  }
 },
 "nbformat": 4,
 "nbformat_minor": 2
}
